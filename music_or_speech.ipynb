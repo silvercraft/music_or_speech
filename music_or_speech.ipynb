{
 "cells": [
  {
   "cell_type": "code",
   "execution_count": 1,
   "metadata": {},
   "outputs": [
    {
     "name": "stderr",
     "output_type": "stream",
     "text": [
      "COMET INFO: Experiment is live on comet.ml https://www.comet.ml/silvercraft/test/c9a4cd98f260432fa886f80f539245d2\n",
      "\n"
     ]
    }
   ],
   "source": [
    "# import comet_ml in the top of your file\n",
    "from comet_ml import Experiment\n",
    "    \n",
    "# Add the following code anywhere in your machine learning file\n",
    "experiment = Experiment(api_key=\"yPxTqVksfS2howisPzXsspPdp\",\n",
    "                        project_name=\"test\", workspace=\"silvercraft\")\n"
   ]
  },
  {
   "cell_type": "code",
   "execution_count": 2,
   "metadata": {},
   "outputs": [
    {
     "name": "stderr",
     "output_type": "stream",
     "text": [
      "Using TensorFlow backend.\n"
     ]
    }
   ],
   "source": [
    "from keras.models import Sequential\n",
    "from keras.layers import Dense, Dropout, Activation\n",
    "from keras.optimizers import Adam\n",
    "from keras.utils import to_categorical\n",
    "\n",
    "import numpy as np\n",
    "import pandas as pd\n"
   ]
  },
  {
   "cell_type": "code",
   "execution_count": 4,
   "metadata": {},
   "outputs": [],
   "source": [
    "import librosa\n",
    "import matplotlib.pyplot as plt\n",
    "from scipy.io import wavfile as wav\n",
    "from sklearn import metrics \n",
    "from sklearn.preprocessing import LabelEncoder\n",
    "from sklearn.model_selection import train_test_split "
   ]
  },
  {
   "cell_type": "code",
   "execution_count": 40,
   "metadata": {},
   "outputs": [],
   "source": [
    "from os import listdir\n",
    "from os.path import isfile, isdir, join\n",
    "features=[]\n",
    "mypath1 = \"C:/Users/andy/test/music_wav\"\n",
    "files = listdir(mypath1)\n",
    "for f in files:\n",
    "    fullpath = join(mypath1,f)\n",
    "    label = \"music\"\n",
    "    features.append([fullpath, label])\n",
    "mypath2 = \"C:/Users/andy/test/speech_wav\"\n",
    "files = listdir(mypath2)\n",
    "for f in files:\n",
    "    fullpath = join(mypath2,f)\n",
    "    label = \"speech\"\n",
    "    features.append([fullpath, label])\n",
    "\n"
   ]
  },
  {
   "cell_type": "code",
   "execution_count": 92,
   "metadata": {},
   "outputs": [],
   "source": [
    "features = np.array(features)"
   ]
  },
  {
   "cell_type": "code",
   "execution_count": 42,
   "metadata": {},
   "outputs": [
    {
     "data": {
      "text/plain": [
       "[<matplotlib.lines.Line2D at 0x2c62d04940>]"
      ]
     },
     "execution_count": 42,
     "metadata": {},
     "output_type": "execute_result"
    },
    {
     "data": {
      "image/png": "[encoded data removed]",
      "text/plain": [
       "<Figure size 432x288 with 1 Axes>"
      ]
     },
     "metadata": {
      "needs_background": "light"
     },
     "output_type": "display_data"
    }
   ],
   "source": [
    "fn = features[0][0]\n",
    "librosa_audio, librosa_sample_rate = librosa.load(fn)\n",
    "plt.plot(librosa_audio)"
   ]
  },
  {
   "cell_type": "code",
   "execution_count": 44,
   "metadata": {},
   "outputs": [
    {
     "data": {
      "text/plain": [
       "{'web': 'https://www.comet.ml/api/asset/download?assetId=fbae05350d02448a917847b97fa185d3&experimentKey=c9a4cd98f260432fa886f80f539245d2',\n",
       " 'api': 'https://www.comet.ml/api/rest/v2/experiment/asset/get-asset?assetId=fbae05350d02448a917847b97fa185d3&experimentKey=c9a4cd98f260432fa886f80f539245d2',\n",
       " 'assetId': 'fbae05350d02448a917847b97fa185d3'}"
      ]
     },
     "execution_count": 44,
     "metadata": {},
     "output_type": "execute_result"
    },
    {
     "name": "stderr",
     "output_type": "stream",
     "text": [
      "COMET ERROR: File could not be uploaded\n",
      "COMET ERROR: File could not be uploaded\n",
      "COMET ERROR: File could not be uploaded\n",
      "COMET ERROR: File could not be uploaded\n",
      "COMET ERROR: File could not be uploaded\n",
      "COMET ERROR: File could not be uploaded\n",
      "COMET ERROR: File could not be uploaded\n",
      "COMET ERROR: File could not be uploaded\n",
      "COMET ERROR: File could not be uploaded\n",
      "COMET ERROR: File could not be uploaded\n",
      "COMET ERROR: File could not be uploaded\n",
      "COMET ERROR: File could not be uploaded\n"
     ]
    }
   ],
   "source": [
    "for i in range(128):\n",
    "    experiment.log_audio(audio_data = features[1][0], metadata = {\"name\":features[i][1]},sample_rate = 22050)"
   ]
  },
  {
   "cell_type": "code",
   "execution_count": 47,
   "metadata": {},
   "outputs": [
    {
     "name": "stderr",
     "output_type": "stream",
     "text": [
      "COMET ERROR: File could not be uploaded\n"
     ]
    }
   ],
   "source": [
    "def extract_features(file_name):\n",
    "    audio, sample_rate = librosa.load(file_name, res_type='kaiser_fast') \n",
    "    mfccs = librosa.feature.mfcc(y=audio, sr=sample_rate, n_mfcc=40)\n",
    "    mfccs_processed = np.mean(mfccs.T,axis=0)\n",
    "     \n",
    "    return mfccs_processed"
   ]
  },
  {
   "cell_type": "code",
   "execution_count": 50,
   "metadata": {},
   "outputs": [],
   "source": [
    "features_pls = []\n",
    "for i in range(128):\n",
    "    data = extract_features(features[i][0])\n",
    "    label = features[i][1]\n",
    "    features_pls.append([data,label])\n"
   ]
  },
  {
   "cell_type": "code",
   "execution_count": 52,
   "metadata": {},
   "outputs": [],
   "source": [
    "featuresdf = pd.DataFrame(features_pls, columns=['feature','class_label'])"
   ]
  },
  {
   "cell_type": "code",
   "execution_count": 54,
   "metadata": {},
   "outputs": [],
   "source": [
    "from sklearn.preprocessing import LabelEncoder\n",
    "from keras.utils import to_categorical# Convert features and corresponding classification labels into numpy arrays\n",
    "X = np.array(featuresdf.feature.tolist())\n",
    "y = np.array(featuresdf.class_label.tolist())# Encode the classification labels\n",
    "le = LabelEncoder()\n",
    "yy = to_categorical(le.fit_transform(y))"
   ]
  },
  {
   "cell_type": "code",
   "execution_count": 61,
   "metadata": {},
   "outputs": [],
   "source": [
    "# split the dataset \n",
    "from sklearn.model_selection import train_test_split \n",
    "x_train, x_test, y_train, y_test = train_test_split(X, yy, test_size=0.2, random_state = 127)\n",
    "num_labels = yy.shape[1]\n",
    "filter_size = 2\n",
    "def build_model_graph(input_shape=(40,)):\n",
    "    model = Sequential()\n",
    "    model.add(Dense(256))\n",
    "    model.add(Activation('relu'))\n",
    "    model.add(Dropout(0.5))\n",
    "    model.add(Dense(256))\n",
    "    model.add(Activation('relu'))\n",
    "    model.add(Dropout(0.5))\n",
    "    model.add(Dense(num_labels))\n",
    "    model.add(Activation('softmax'))\n",
    "    # Compile the model\n",
    "    model.compile(loss='categorical_crossentropy', metrics=['accuracy'], optimizer='adam')    \n",
    "    return model\n",
    "\n",
    "model = build_model_graph()"
   ]
  },
  {
   "cell_type": "code",
   "execution_count": 63,
   "metadata": {},
   "outputs": [
    {
     "name": "stderr",
     "output_type": "stream",
     "text": [
      "COMET INFO: Ignoring automatic log_parameter('verbose') because 'keras:verbose' is in COMET_LOGGING_PARAMETERS_IGNORE\n",
      "COMET INFO: Ignoring automatic log_parameter('do_validation') because 'keras:do_validation' is in COMET_LOGGING_PARAMETERS_IGNORE\n"
     ]
    },
    {
     "name": "stdout",
     "output_type": "stream",
     "text": [
      "Train on 102 samples, validate on 26 samples\n",
      "Epoch 1/100\n",
      " 32/102 [========>.....................] - ETA: 9s - loss: 15.8889 - accuracy: 0.4688"
     ]
    },
    {
     "name": "stderr",
     "output_type": "stream",
     "text": [
      "COMET INFO: Ignoring automatic log_metric('batch_batch') because 'keras:batch_batch' is in COMET_LOGGING_METRICS_IGNORE\n",
      "COMET INFO: Ignoring automatic log_metric('batch_size') because 'keras:batch_size' is in COMET_LOGGING_METRICS_IGNORE\n"
     ]
    },
    {
     "name": "stdout",
     "output_type": "stream",
     "text": [
      "102/102 [==============================] - 4s 44ms/step - loss: 16.3105 - accuracy: 0.4608 - val_loss: 5.8584 - val_accuracy: 0.5000\n",
      "Epoch 2/100\n",
      "102/102 [==============================] - 0s 981us/step - loss: 14.1486 - accuracy: 0.5490 - val_loss: 5.7244 - val_accuracy: 0.4615\n",
      "Epoch 3/100\n",
      "102/102 [==============================] - 0s 961us/step - loss: 11.5201 - accuracy: 0.6078 - val_loss: 5.1742 - val_accuracy: 0.6154\n",
      "Epoch 4/100\n",
      "102/102 [==============================] - 0s 981us/step - loss: 10.0206 - accuracy: 0.5588 - val_loss: 4.4278 - val_accuracy: 0.6538\n",
      "Epoch 5/100\n",
      "102/102 [==============================] - 0s 824us/step - loss: 10.0321 - accuracy: 0.6275 - val_loss: 2.1921 - val_accuracy: 0.7692\n",
      "Epoch 6/100\n",
      "102/102 [==============================] - 0s 716us/step - loss: 7.0911 - accuracy: 0.5882 - val_loss: 2.9467 - val_accuracy: 0.6154\n",
      "Epoch 7/100\n",
      "102/102 [==============================] - 0s 1ms/step - loss: 6.6699 - accuracy: 0.6176 - val_loss: 1.8891 - val_accuracy: 0.8846\n",
      "Epoch 8/100\n",
      "102/102 [==============================] - 0s 1ms/step - loss: 5.4930 - accuracy: 0.7059 - val_loss: 2.3406 - val_accuracy: 0.7692\n",
      "Epoch 9/100\n",
      "102/102 [==============================] - 0s 1ms/step - loss: 6.5247 - accuracy: 0.6667 - val_loss: 2.2012 - val_accuracy: 0.8077\n",
      "Epoch 10/100\n",
      "102/102 [==============================] - 0s 765us/step - loss: 4.3910 - accuracy: 0.7255 - val_loss: 2.3073 - val_accuracy: 0.8077\n",
      "Epoch 11/100\n",
      "102/102 [==============================] - 0s 579us/step - loss: 5.4752 - accuracy: 0.6765 - val_loss: 2.3597 - val_accuracy: 0.8077\n",
      "Epoch 12/100\n",
      "102/102 [==============================] - 0s 814us/step - loss: 4.1979 - accuracy: 0.7647 - val_loss: 2.4414 - val_accuracy: 0.8077\n",
      "Epoch 13/100\n",
      "102/102 [==============================] - 0s 844us/step - loss: 4.8391 - accuracy: 0.7157 - val_loss: 2.3265 - val_accuracy: 0.8846\n",
      "Epoch 14/100\n",
      "102/102 [==============================] - 0s 1ms/step - loss: 4.6980 - accuracy: 0.6667 - val_loss: 2.4661 - val_accuracy: 0.7692\n",
      "Epoch 15/100\n",
      "102/102 [==============================] - 0s 942us/step - loss: 3.3582 - accuracy: 0.7647 - val_loss: 2.4606 - val_accuracy: 0.7692\n",
      "Epoch 16/100\n",
      "102/102 [==============================] - 0s 1ms/step - loss: 2.6731 - accuracy: 0.8039 - val_loss: 2.3553 - val_accuracy: 0.8846\n",
      "Epoch 17/100\n",
      "102/102 [==============================] - 0s 1ms/step - loss: 3.7640 - accuracy: 0.7451 - val_loss: 2.6609 - val_accuracy: 0.8077\n",
      "Epoch 18/100\n",
      "102/102 [==============================] - 0s 961us/step - loss: 3.7532 - accuracy: 0.7451 - val_loss: 2.4316 - val_accuracy: 0.8077\n",
      "Epoch 19/100\n",
      "102/102 [==============================] - 0s 1ms/step - loss: 3.9679 - accuracy: 0.7451 - val_loss: 2.0999 - val_accuracy: 0.8846\n",
      "Epoch 20/100\n",
      "102/102 [==============================] - 0s 903us/step - loss: 3.2308 - accuracy: 0.7255 - val_loss: 1.9995 - val_accuracy: 0.8846\n",
      "Epoch 21/100\n",
      "102/102 [==============================] - 0s 687us/step - loss: 2.1215 - accuracy: 0.7843 - val_loss: 2.1651 - val_accuracy: 0.8077\n",
      "Epoch 22/100\n",
      "102/102 [==============================] - 0s 961us/step - loss: 3.0962 - accuracy: 0.7647 - val_loss: 2.0414 - val_accuracy: 0.8077\n",
      "Epoch 23/100\n",
      "102/102 [==============================] - 0s 1ms/step - loss: 1.9989 - accuracy: 0.7745 - val_loss: 1.7652 - val_accuracy: 0.8846\n",
      "Epoch 24/100\n",
      "102/102 [==============================] - 0s 2ms/step - loss: 1.9943 - accuracy: 0.8039 - val_loss: 1.7641 - val_accuracy: 0.8846\n",
      "Epoch 25/100\n",
      "102/102 [==============================] - 0s 1ms/step - loss: 2.6243 - accuracy: 0.7353 - val_loss: 1.7912 - val_accuracy: 0.8846\n",
      "Epoch 26/100\n",
      "102/102 [==============================] - 0s 1ms/step - loss: 2.3992 - accuracy: 0.7745 - val_loss: 1.7029 - val_accuracy: 0.8846\n",
      "Epoch 27/100\n",
      "102/102 [==============================] - 0s 1ms/step - loss: 1.3825 - accuracy: 0.8333 - val_loss: 1.5446 - val_accuracy: 0.8846\n",
      "Epoch 28/100\n",
      "102/102 [==============================] - 0s 814us/step - loss: 1.2482 - accuracy: 0.8235 - val_loss: 1.4729 - val_accuracy: 0.8846\n",
      "Epoch 29/100\n",
      "102/102 [==============================] - 0s 1ms/step - loss: 1.7065 - accuracy: 0.7941 - val_loss: 1.5672 - val_accuracy: 0.9231\n",
      "Epoch 30/100\n",
      "102/102 [==============================] - 0s 3ms/step - loss: 2.0819 - accuracy: 0.8137 - val_loss: 1.5056 - val_accuracy: 0.9231\n",
      "Epoch 31/100\n",
      "102/102 [==============================] - 0s 1ms/step - loss: 2.0095 - accuracy: 0.8235 - val_loss: 1.2119 - val_accuracy: 0.8846\n",
      "Epoch 32/100\n",
      "102/102 [==============================] - 0s 2ms/step - loss: 1.8314 - accuracy: 0.8137 - val_loss: 1.2013 - val_accuracy: 0.8846\n",
      "Epoch 33/100\n",
      "102/102 [==============================] - 0s 912us/step - loss: 2.0015 - accuracy: 0.8039 - val_loss: 1.3530 - val_accuracy: 0.8846\n",
      "Epoch 34/100\n",
      "102/102 [==============================] - 0s 1ms/step - loss: 1.0241 - accuracy: 0.8725 - val_loss: 1.4107 - val_accuracy: 0.9231\n",
      "Epoch 35/100\n",
      "102/102 [==============================] - 0s 1ms/step - loss: 1.4136 - accuracy: 0.8431 - val_loss: 1.2404 - val_accuracy: 0.8846\n",
      "Epoch 36/100\n",
      "102/102 [==============================] - 0s 1ms/step - loss: 1.9451 - accuracy: 0.7745 - val_loss: 1.1343 - val_accuracy: 0.8462\n",
      "Epoch 37/100\n",
      "102/102 [==============================] - 0s 2ms/step - loss: 1.2526 - accuracy: 0.8333 - val_loss: 1.2114 - val_accuracy: 0.8462\n",
      "Epoch 38/100\n",
      "102/102 [==============================] - 0s 1ms/step - loss: 2.0531 - accuracy: 0.7843 - val_loss: 1.1051 - val_accuracy: 0.8462\n",
      "Epoch 39/100\n",
      "102/102 [==============================] - 0s 1ms/step - loss: 1.5217 - accuracy: 0.7941 - val_loss: 1.1870 - val_accuracy: 0.8846\n",
      "Epoch 40/100\n",
      "102/102 [==============================] - 0s 1ms/step - loss: 0.9042 - accuracy: 0.8725 - val_loss: 1.4794 - val_accuracy: 0.8462\n",
      "Epoch 41/100\n",
      "102/102 [==============================] - 0s 1ms/step - loss: 1.0800 - accuracy: 0.8333 - val_loss: 1.5416 - val_accuracy: 0.8077\n",
      "Epoch 42/100\n",
      "102/102 [==============================] - 0s 2ms/step - loss: 1.3121 - accuracy: 0.8333 - val_loss: 1.2205 - val_accuracy: 0.9231\n",
      "Epoch 43/100\n",
      "102/102 [==============================] - 0s 1ms/step - loss: 0.6964 - accuracy: 0.8922 - val_loss: 1.0817 - val_accuracy: 0.9231\n",
      "Epoch 44/100\n",
      "102/102 [==============================] - 0s 2ms/step - loss: 1.2440 - accuracy: 0.7843 - val_loss: 1.0432 - val_accuracy: 0.9231\n",
      "Epoch 45/100\n",
      "102/102 [==============================] - 0s 824us/step - loss: 1.0308 - accuracy: 0.8431 - val_loss: 1.1740 - val_accuracy: 0.9231\n",
      "Epoch 46/100\n",
      "102/102 [==============================] - 0s 834us/step - loss: 0.9639 - accuracy: 0.8725 - val_loss: 1.3412 - val_accuracy: 0.8077\n",
      "Epoch 47/100\n",
      "102/102 [==============================] - 0s 1ms/step - loss: 1.1420 - accuracy: 0.8529 - val_loss: 1.3334 - val_accuracy: 0.8077\n",
      "Epoch 48/100\n",
      "102/102 [==============================] - 0s 1ms/step - loss: 0.7749 - accuracy: 0.9020 - val_loss: 1.2530 - val_accuracy: 0.8462\n",
      "Epoch 49/100\n",
      "102/102 [==============================] - 0s 971us/step - loss: 1.3378 - accuracy: 0.8431 - val_loss: 0.9972 - val_accuracy: 0.9231\n",
      "Epoch 50/100\n",
      "102/102 [==============================] - 0s 589us/step - loss: 0.6236 - accuracy: 0.8627 - val_loss: 0.9229 - val_accuracy: 0.9615\n",
      "Epoch 51/100\n",
      "102/102 [==============================] - 0s 1ms/step - loss: 0.8553 - accuracy: 0.8431 - val_loss: 0.8900 - val_accuracy: 0.9615\n",
      "Epoch 52/100\n",
      "102/102 [==============================] - 0s 1ms/step - loss: 1.1633 - accuracy: 0.8333 - val_loss: 0.8651 - val_accuracy: 0.9231\n",
      "Epoch 53/100\n",
      "102/102 [==============================] - 0s 942us/step - loss: 1.2996 - accuracy: 0.8039 - val_loss: 0.8487 - val_accuracy: 0.8462\n",
      "Epoch 54/100\n",
      "102/102 [==============================] - 0s 883us/step - loss: 0.4783 - accuracy: 0.9314 - val_loss: 0.8260 - val_accuracy: 0.9615\n",
      "Epoch 55/100\n",
      "102/102 [==============================] - ETA: 0s - loss: 0.8553 - accuracy: 0.87 - 0s 795us/step - loss: 1.0103 - accuracy: 0.8235 - val_loss: 0.8676 - val_accuracy: 0.9231\n",
      "Epoch 56/100\n",
      "102/102 [==============================] - 0s 1ms/step - loss: 0.9704 - accuracy: 0.8529 - val_loss: 0.8643 - val_accuracy: 0.9231\n",
      "Epoch 57/100\n"
     ]
    },
    {
     "name": "stdout",
     "output_type": "stream",
     "text": [
      "102/102 [==============================] - 0s 746us/step - loss: 0.9143 - accuracy: 0.8235 - val_loss: 0.8391 - val_accuracy: 0.9231\n",
      "Epoch 58/100\n",
      "102/102 [==============================] - 0s 608us/step - loss: 0.9049 - accuracy: 0.8529 - val_loss: 0.8994 - val_accuracy: 0.9231\n",
      "Epoch 59/100\n",
      "102/102 [==============================] - 0s 510us/step - loss: 0.6208 - accuracy: 0.8725 - val_loss: 0.9695 - val_accuracy: 0.8846\n",
      "Epoch 60/100\n",
      "102/102 [==============================] - 0s 657us/step - loss: 1.4141 - accuracy: 0.8333 - val_loss: 0.8954 - val_accuracy: 0.8846\n",
      "Epoch 61/100\n",
      "102/102 [==============================] - 0s 667us/step - loss: 1.0488 - accuracy: 0.8333 - val_loss: 0.7782 - val_accuracy: 0.9615\n",
      "Epoch 62/100\n",
      "102/102 [==============================] - 0s 736us/step - loss: 0.8662 - accuracy: 0.8627 - val_loss: 0.7213 - val_accuracy: 0.9615\n",
      "Epoch 63/100\n",
      "102/102 [==============================] - 0s 726us/step - loss: 0.8776 - accuracy: 0.8235 - val_loss: 0.7029 - val_accuracy: 0.9615\n",
      "Epoch 64/100\n",
      "102/102 [==============================] - 0s 775us/step - loss: 0.7724 - accuracy: 0.8529 - val_loss: 0.6968 - val_accuracy: 0.9615\n",
      "Epoch 65/100\n",
      "102/102 [==============================] - 0s 510us/step - loss: 0.3088 - accuracy: 0.9314 - val_loss: 0.7146 - val_accuracy: 0.9615\n",
      "Epoch 66/100\n",
      "102/102 [==============================] - 0s 687us/step - loss: 0.7197 - accuracy: 0.8922 - val_loss: 0.7988 - val_accuracy: 0.8846\n",
      "Epoch 67/100\n",
      "102/102 [==============================] - 0s 1ms/step - loss: 0.7332 - accuracy: 0.9020 - val_loss: 0.8163 - val_accuracy: 0.8846\n",
      "Epoch 68/100\n",
      "102/102 [==============================] - 0s 893us/step - loss: 0.4414 - accuracy: 0.9216 - val_loss: 0.6794 - val_accuracy: 0.9231\n",
      "Epoch 69/100\n",
      "102/102 [==============================] - 0s 1ms/step - loss: 0.3154 - accuracy: 0.8922 - val_loss: 0.6088 - val_accuracy: 0.9615\n",
      "Epoch 70/100\n",
      "102/102 [==============================] - 0s 785us/step - loss: 0.5266 - accuracy: 0.8725 - val_loss: 0.5930 - val_accuracy: 0.9615\n",
      "Epoch 71/100\n",
      "102/102 [==============================] - 0s 1ms/step - loss: 0.7035 - accuracy: 0.8627 - val_loss: 0.5971 - val_accuracy: 0.9231\n",
      "Epoch 72/100\n",
      "102/102 [==============================] - 0s 795us/step - loss: 0.8083 - accuracy: 0.8529 - val_loss: 0.6165 - val_accuracy: 0.9615\n",
      "Epoch 73/100\n",
      "102/102 [==============================] - 0s 549us/step - loss: 0.2067 - accuracy: 0.9314 - val_loss: 0.6178 - val_accuracy: 0.9231\n",
      "Epoch 74/100\n",
      "102/102 [==============================] - 0s 1ms/step - loss: 0.3669 - accuracy: 0.8431 - val_loss: 0.6159 - val_accuracy: 0.9231\n",
      "Epoch 75/100\n",
      "102/102 [==============================] - 0s 795us/step - loss: 0.6680 - accuracy: 0.8725 - val_loss: 0.6338 - val_accuracy: 0.9615\n",
      "Epoch 76/100\n",
      "102/102 [==============================] - 0s 922us/step - loss: 0.3742 - accuracy: 0.9118 - val_loss: 0.6551 - val_accuracy: 0.9231\n",
      "Epoch 77/100\n",
      "102/102 [==============================] - 0s 1ms/step - loss: 0.3227 - accuracy: 0.9216 - val_loss: 0.6513 - val_accuracy: 0.9231\n",
      "Epoch 78/100\n",
      "102/102 [==============================] - 0s 1ms/step - loss: 0.3073 - accuracy: 0.9020 - val_loss: 0.6188 - val_accuracy: 0.9615\n",
      "Epoch 79/100\n",
      "102/102 [==============================] - 0s 1ms/step - loss: 0.3088 - accuracy: 0.8824 - val_loss: 0.5936 - val_accuracy: 0.8462\n",
      "Epoch 80/100\n",
      "102/102 [==============================] - 0s 1ms/step - loss: 0.4630 - accuracy: 0.8922 - val_loss: 0.5987 - val_accuracy: 0.8846\n",
      "Epoch 81/100\n",
      "102/102 [==============================] - 0s 942us/step - loss: 0.3411 - accuracy: 0.9020 - val_loss: 0.6241 - val_accuracy: 0.9615\n",
      "Epoch 82/100\n",
      "102/102 [==============================] - 0s 2ms/step - loss: 0.4947 - accuracy: 0.8725 - val_loss: 0.6394 - val_accuracy: 0.9615\n",
      "Epoch 83/100\n",
      "102/102 [==============================] - 0s 912us/step - loss: 0.5783 - accuracy: 0.8627 - val_loss: 0.6785 - val_accuracy: 0.8846\n",
      "Epoch 84/100\n",
      "102/102 [==============================] - 0s 746us/step - loss: 0.4199 - accuracy: 0.9216 - val_loss: 0.6553 - val_accuracy: 0.9231\n",
      "Epoch 85/100\n",
      "102/102 [==============================] - 0s 2ms/step - loss: 0.3148 - accuracy: 0.9020 - val_loss: 0.6414 - val_accuracy: 0.9231\n",
      "Epoch 86/100\n",
      "102/102 [==============================] - 0s 589us/step - loss: 0.2914 - accuracy: 0.9118 - val_loss: 0.6434 - val_accuracy: 0.9231\n",
      "Epoch 87/100\n",
      "102/102 [==============================] - 0s 1ms/step - loss: 0.5521 - accuracy: 0.9118 - val_loss: 0.6570 - val_accuracy: 0.9231\n",
      "Epoch 88/100\n",
      "102/102 [==============================] - 0s 1ms/step - loss: 0.3120 - accuracy: 0.9118 - val_loss: 0.6837 - val_accuracy: 0.9231\n",
      "Epoch 89/100\n",
      "102/102 [==============================] - 0s 961us/step - loss: 0.4526 - accuracy: 0.9118 - val_loss: 0.7034 - val_accuracy: 0.8846\n",
      "Epoch 90/100\n",
      "102/102 [==============================] - 0s 736us/step - loss: 0.5407 - accuracy: 0.8922 - val_loss: 0.7097 - val_accuracy: 0.8846\n",
      "Epoch 91/100\n",
      "102/102 [==============================] - 0s 1ms/step - loss: 0.3752 - accuracy: 0.9020 - val_loss: 0.6919 - val_accuracy: 0.8846\n",
      "Epoch 92/100\n",
      "102/102 [==============================] - 0s 2ms/step - loss: 0.3286 - accuracy: 0.9314 - val_loss: 0.6600 - val_accuracy: 0.8846\n",
      "Epoch 93/100\n",
      "102/102 [==============================] - 0s 1ms/step - loss: 0.3802 - accuracy: 0.9314 - val_loss: 0.6412 - val_accuracy: 0.9231\n",
      "Epoch 94/100\n",
      "102/102 [==============================] - 0s 932us/step - loss: 0.3333 - accuracy: 0.9020 - val_loss: 0.6594 - val_accuracy: 0.9615\n",
      "Epoch 95/100\n",
      "102/102 [==============================] - 0s 981us/step - loss: 0.3593 - accuracy: 0.9020 - val_loss: 0.6751 - val_accuracy: 0.8846\n",
      "Epoch 96/100\n",
      "102/102 [==============================] - 0s 1ms/step - loss: 0.3150 - accuracy: 0.9216 - val_loss: 0.6343 - val_accuracy: 0.9615\n",
      "Epoch 97/100\n",
      "102/102 [==============================] - 0s 863us/step - loss: 0.1711 - accuracy: 0.9314 - val_loss: 0.6083 - val_accuracy: 0.9615\n",
      "Epoch 98/100\n",
      "102/102 [==============================] - 0s 775us/step - loss: 0.4326 - accuracy: 0.9314 - val_loss: 0.5875 - val_accuracy: 0.9615\n",
      "Epoch 99/100\n",
      "102/102 [==============================] - 0s 2ms/step - loss: 0.6602 - accuracy: 0.8725 - val_loss: 0.5762 - val_accuracy: 0.9615\n",
      "Epoch 100/100\n",
      "102/102 [==============================] - 0s 1ms/step - loss: 0.2224 - accuracy: 0.9216 - val_loss: 0.5934 - val_accuracy: 0.9615\n"
     ]
    },
    {
     "data": {
      "text/plain": [
       "<keras.callbacks.callbacks.History at 0x2c61683470>"
      ]
     },
     "execution_count": 63,
     "metadata": {},
     "output_type": "execute_result"
    }
   ],
   "source": [
    "from keras.callbacks import ModelCheckpoint \n",
    "from datetime import datetime \n",
    "num_epochs = 100\n",
    "num_batch_size = 32\n",
    "model.fit(x_train, y_train, batch_size=num_batch_size, epochs=num_epochs, validation_data=(x_test, y_test), verbose=1)"
   ]
  },
  {
   "cell_type": "code",
   "execution_count": 65,
   "metadata": {},
   "outputs": [
    {
     "name": "stdout",
     "output_type": "stream",
     "text": [
      "Training Accuracy: 98.04%\n",
      "Testing Accuracy: 96.15%\n"
     ]
    }
   ],
   "source": [
    "score = model.evaluate(x_train, y_train, verbose=0)\n",
    "print(\"Training Accuracy: {0:.2%}\".format(score[1]))\n",
    "score = model.evaluate(x_test, y_test, verbose=0)\n",
    "print(\"Testing Accuracy: {0:.2%}\".format(score[1]))"
   ]
  },
  {
   "cell_type": "code",
   "execution_count": 114,
   "metadata": {
    "scrolled": true
   },
   "outputs": [
    {
     "name": "stdout",
     "output_type": "stream",
     "text": [
      "music\n"
     ]
    }
   ],
   "source": [
    "p = extract_features(\"C:/Users/andy/test\\\\whitelotus_vocal2.wav\").reshape(1,40)\n",
    "a = model.predict(p)\n",
    "if(a[0][0]>a[0][1]):\n",
    "    print(\"music\")\n",
    "else:\n",
    "    print(\"speech\")"
   ]
  },
  {
   "cell_type": "code",
   "execution_count": 112,
   "metadata": {},
   "outputs": [
    {
     "data": {
      "text/plain": [
       "array([[9.9999952e-01, 4.6202956e-07]], dtype=float32)"
      ]
     },
     "execution_count": 112,
     "metadata": {},
     "output_type": "execute_result"
    }
   ],
   "source": [
    "a\n"
   ]
  }
 ],
 "metadata": {
  "kernelspec": {
   "display_name": "Python 3",
   "language": "python",
   "name": "python3"
  },
  "language_info": {
   "codemirror_mode": {
    "name": "ipython",
    "version": 3
   },
   "file_extension": ".py",
   "mimetype": "text/x-python",
   "name": "python",
   "nbconvert_exporter": "python",
   "pygments_lexer": "ipython3",
   "version": "3.7.0"
  }
 },
 "nbformat": 4,
 "nbformat_minor": 2
}
